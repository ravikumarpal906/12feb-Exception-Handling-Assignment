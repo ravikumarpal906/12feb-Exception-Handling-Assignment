{
 "cells": [
  {
   "cell_type": "markdown",
   "id": "2fbd480d-7380-4082-81ec-a4033a70d224",
   "metadata": {},
   "source": [
    "Q1. What is an Exception in python? Write the difference between Exception and Syntax errors."
   ]
  },
  {
   "cell_type": "markdown",
   "id": "eccedaf2-6137-4bda-bf66-3e169a67a00d",
   "metadata": {},
   "source": [
    "An exception in Python is an event that occurs during the execution of a program, leading to the disruption of the normal flow of instructions. When an exception occurs, the program stops executing its regular statements and jumps to a special block of code designed to handle the exception. This block of code is known as an exception handler. Exceptions are raised when errors or unexpected conditions are encountered in the program."
   ]
  },
  {
   "cell_type": "markdown",
   "id": "1451a814-1cce-4879-9054-c748470bf3c9",
   "metadata": {},
   "source": [
    "1. Cause: \n",
    "    Syntax Error: Syntax errors are errors in the code's structure or syntax. They occur when you violate the rules of the Python language, such as using an undefined variable or forgetting a colon at the end of a statement. Syntax errors are detected by the Python interpreter during the compilation phase before the program runs.\n",
    "\n",
    "    Exception: Exceptions are errors that occur during the program's execution when it encounters unexpected conditions or situations. These can include division by zero, attempting to access a non-existent file, or trying to perform an unsupported operation.\n",
    "\n",
    "2. Detection Time:\n",
    "\n",
    "    Syntax Error: Detected during the compilation phase before the program runs.\n",
    "    Exception: Detected during the program's execution while it is running.\n",
    "\n",
    "3. Handling:\n",
    "\n",
    "    Syntax Error: Syntax errors cannot be caught or handled by the program because they prevent the program from running in the first place. You need to fix them in the code.\n",
    "    Exception: Exceptions can be caught and handled using try-except blocks, allowing the program to respond gracefully to unexpected situations without crashing."
   ]
  },
  {
   "cell_type": "markdown",
   "id": "c3c882d3-6a4f-470b-9576-3f1f530070b6",
   "metadata": {},
   "source": [
    "Q2. what happens when an exception is not handled? Explain with an example."
   ]
  },
  {
   "cell_type": "markdown",
   "id": "e40bd51e-aadb-4d02-9a70-1499e7285bf3",
   "metadata": {},
   "source": [
    "When an exception is not handled in a Python program, it propagates up the call stack until it is caught by an appropriate exception handler or until it reaches the top-level of the program. If an exception is not caught and handled anywhere in the call stack, it will result in the termination of the program, and an error message describing the exception will be displayed.\n",
    "\n",
    "Here's an example to illustrate what happens when an exception is not handled:"
   ]
  },
  {
   "cell_type": "code",
   "execution_count": null,
   "id": "39074c37-5af3-4459-858b-768adb68940b",
   "metadata": {},
   "outputs": [],
   "source": [
    "def divide(a, b):\n",
    "    return a / b\n",
    "\n",
    "result = divide(10, 0)  # This will raise a ZeroDivisionError\n",
    "print(result)"
   ]
  },
  {
   "cell_type": "markdown",
   "id": "4ca4d936-e129-4d8c-b1ef-9bfe2029c6e2",
   "metadata": {},
   "source": [
    "In this example, we have a function divide that performs division. When we call divide(10, 0), it attempts to divide 10 by 0, which is not allowed in mathematics, and it raises a ZeroDivisionError exception.\n",
    "\n"
   ]
  },
  {
   "cell_type": "markdown",
   "id": "ff9af771-e130-433a-9385-6721b2b2d051",
   "metadata": {},
   "source": [
    "Q3. Which Python statement are used to catch and handle exception? Explain with an example."
   ]
  },
  {
   "cell_type": "markdown",
   "id": "2123a706-fc19-44f0-a76c-c5accb10f29b",
   "metadata": {},
   "source": [
    "In Python, the try and except statements are used to catch and handle exceptions. The try block contains the code that may raise an exception, and the except block contains the code to handle the exception if it occurs."
   ]
  },
  {
   "cell_type": "code",
   "execution_count": 1,
   "id": "ccbe5578-7b74-4252-acc9-b36ce60e6ae4",
   "metadata": {},
   "outputs": [
    {
     "name": "stdout",
     "output_type": "stream",
     "text": [
      "Error: division by zero\n"
     ]
    }
   ],
   "source": [
    "try:\n",
    "    result = 10 / 0  # This will raise a ZeroDivisionError\n",
    "except ZeroDivisionError as e:\n",
    "    print(\"Error:\", e)"
   ]
  },
  {
   "cell_type": "markdown",
   "id": "ef7fb94b-aaac-4f06-a503-4afe3d75b63d",
   "metadata": {},
   "source": [
    "In this example:\n",
    "\n",
    "We attempt to divide 10 by 0 within the try block, which is not allowed and raises a ZeroDivisionError.\n",
    "The except ZeroDivisionError block catches the ZeroDivisionError exception, and we print an error message."
   ]
  },
  {
   "cell_type": "markdown",
   "id": "5b504862-bb1a-4f4f-b61e-7ce4f6b2381f",
   "metadata": {},
   "source": [
    "4. Expain with an example:\n",
    "\n",
    "    a. try and else\n",
    "    \n",
    "    b. finally\n",
    "    \n",
    "    c. raise"
   ]
  },
  {
   "cell_type": "markdown",
   "id": "a9f252a8-91ec-4cb6-b597-cd7a0ff173ae",
   "metadata": {},
   "source": [
    "a. try and else:\n",
    "The try and else blocks work together in Python to handle exceptions. The code inside the try block is executed, and if an exception occurs, it is caught by the appropriate except block. If no exception occurs, the code inside the else block is executed."
   ]
  },
  {
   "cell_type": "code",
   "execution_count": 2,
   "id": "6ba19e36-caaf-419a-8044-a0aeff64aa62",
   "metadata": {},
   "outputs": [
    {
     "name": "stdout",
     "output_type": "stream",
     "text": [
      "No error occurred. Result: 5.0\n"
     ]
    }
   ],
   "source": [
    "try:\n",
    "    result = 10 / 2  # This will not raise an exception\n",
    "except ZeroDivisionError as e:\n",
    "    print(\"Error:\", e)\n",
    "else:\n",
    "    print(\"No error occurred. Result:\", result)"
   ]
  },
  {
   "cell_type": "markdown",
   "id": "ecf1b659-7374-401c-8600-853f4dd9925d",
   "metadata": {},
   "source": [
    "b. finally:\n",
    "The finally block is used to specify code that should be executed regardless of whether an exception is raised or not. It's typically used for cleanup operations, such as closing files or releasing resources."
   ]
  },
  {
   "cell_type": "code",
   "execution_count": 3,
   "id": "c52974e4-ea38-4a6b-8c10-21797a92a1a1",
   "metadata": {},
   "outputs": [],
   "source": [
    "try:\n",
    "    file = open(\"example.txt\", \"r\")\n",
    "    # Perform some operations with the file\n",
    "except FileNotFoundError as e:\n",
    "    print(\"File not found:\", e)\n",
    "finally:\n",
    "    file.close()  # This will always be executed, even if an exception occurs"
   ]
  },
  {
   "cell_type": "markdown",
   "id": "9579d65a-eb4f-44b3-9944-c78bcf4da4ee",
   "metadata": {},
   "source": [
    "c. raise:\n",
    "The raise statement is used to explicitly raise an exception in Python. You can use it when you want to signal an error or exception condition in your code."
   ]
  },
  {
   "cell_type": "code",
   "execution_count": 4,
   "id": "b17bd0de-e8a5-4057-9342-182ec1e36353",
   "metadata": {},
   "outputs": [
    {
     "name": "stdout",
     "output_type": "stream",
     "text": [
      "Error: Division by zero is not allowed\n"
     ]
    }
   ],
   "source": [
    "def divide(a, b):\n",
    "    if b == 0:\n",
    "        raise ZeroDivisionError(\"Division by zero is not allowed\")\n",
    "    return a / b\n",
    "\n",
    "try:\n",
    "    result = divide(10, 0)\n",
    "except ZeroDivisionError as e:\n",
    "    print(\"Error:\", e)"
   ]
  },
  {
   "cell_type": "markdown",
   "id": "360b0d7a-8e20-4d7e-b6e3-7a2ed101ce43",
   "metadata": {},
   "source": [
    "Q5. What are custom Exceptions in python? Why do we need custom Exception? Explain with an example?"
   ]
  },
  {
   "cell_type": "markdown",
   "id": "c3507ff9-efe9-496c-bc0f-a770b9f640b8",
   "metadata": {},
   "source": [
    "Custom exceptions in Python are user-defined exception classes that inherit from the base Exception class or one of its subclasses. They are used to create custom error types or exceptions that are specific to a particular application or module. Custom exceptions allow you to raise and catch errors that have a meaningful and specific context within your code.\n",
    "\n"
   ]
  },
  {
   "cell_type": "markdown",
   "id": "ec6fe9bd-a8ac-445f-9eda-07040f5bd2ab",
   "metadata": {},
   "source": [
    "Why do we need custom exceptions?\n",
    "Custom exceptions are useful for the following reasons:\n",
    "\n",
    "Specific Error Handling: They provide a way to raise exceptions that are tailored to the requirements of your application. This allows you to handle specific error conditions in a more precise manner.\n",
    "\n",
    "Clarity and Readability: Custom exceptions can improve the readability of your code by giving descriptive names to error situations. This makes it easier to understand what went wrong when an exception is raised"
   ]
  },
  {
   "cell_type": "code",
   "execution_count": 5,
   "id": "79be97e6-91ab-4e41-bdab-52bbc4d85d1d",
   "metadata": {},
   "outputs": [
    {
     "name": "stdout",
     "output_type": "stream",
     "text": [
      "Custom Error: Division by zero is not allowed\n"
     ]
    }
   ],
   "source": [
    "class MyCustomError(Exception):\n",
    "    def __init__(self,msg):\n",
    "        self.msg=msg\n",
    "        \n",
    "def divide (a,b):\n",
    "    if b==0:\n",
    "        raise MyCustomError(\"Division by zero is not allowed\")\n",
    "    return a/b\n",
    "\n",
    "try:\n",
    "    result=divide(10,0)\n",
    "except MyCustomError as e:\n",
    "    print(\"Custom Error:\",e)"
   ]
  },
  {
   "cell_type": "markdown",
   "id": "489a8858-433c-48bf-b9ba-59c03dc6f57e",
   "metadata": {},
   "source": [
    "Q6. Create a custom exception class. Use this class to handle an exception."
   ]
  },
  {
   "cell_type": "code",
   "execution_count": 6,
   "id": "842cb896-51a0-48f8-b6b9-7d6411cf033b",
   "metadata": {},
   "outputs": [
    {
     "name": "stdout",
     "output_type": "stream",
     "text": [
      "Custom Error: Empty data receive\n"
     ]
    }
   ],
   "source": [
    "class CustomError(Exception):\n",
    "    def __init__(self,msg):\n",
    "        self.msg=msg\n",
    "        \n",
    "def process_data(data):\n",
    "    if not data:\n",
    "        raise CustomError(\"Empty data receive\")\n",
    "    #process data here\n",
    "    \n",
    "try:\n",
    "    input_data=[]\n",
    "    process_data(input_data)\n",
    "except CustomError as e:\n",
    "    print(\"Custom Error:\",e)"
   ]
  },
  {
   "cell_type": "code",
   "execution_count": null,
   "id": "3c098848-39be-43dc-8fc5-cf35edc85267",
   "metadata": {},
   "outputs": [],
   "source": []
  }
 ],
 "metadata": {
  "kernelspec": {
   "display_name": "Python 3 (ipykernel)",
   "language": "python",
   "name": "python3"
  },
  "language_info": {
   "codemirror_mode": {
    "name": "ipython",
    "version": 3
   },
   "file_extension": ".py",
   "mimetype": "text/x-python",
   "name": "python",
   "nbconvert_exporter": "python",
   "pygments_lexer": "ipython3",
   "version": "3.10.8"
  }
 },
 "nbformat": 4,
 "nbformat_minor": 5
}
